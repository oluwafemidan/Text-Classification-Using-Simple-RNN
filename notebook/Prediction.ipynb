{
  "nbformat": 4,
  "nbformat_minor": 0,
  "metadata": {
    "colab": {
      "provenance": []
    },
    "kernelspec": {
      "name": "python3",
      "display_name": "Python 3"
    },
    "language_info": {
      "name": "python"
    }
  },
  "cells": [
    {
      "cell_type": "code",
      "execution_count": 33,
      "metadata": {
        "id": "_U0K1vtbt0f6"
      },
      "outputs": [],
      "source": [
        "#import libraries and load the model\n",
        "import numpy as np\n",
        "import tensorflow as tf\n",
        "from tensorflow.keras.datasets import imdb\n",
        "from tensorflow.keras.preprocessing import sequence\n",
        "from tensorflow.keras.models import load_model"
      ]
    },
    {
      "cell_type": "code",
      "source": [
        "#Load the IMDB dataset word index\n",
        "word_index = imdb.get_word_index()\n",
        "reverse_word_index = {value: key for key, value in word_index.items()}"
      ],
      "metadata": {
        "id": "rMDd2iDgv-o4"
      },
      "execution_count": 34,
      "outputs": []
    },
    {
      "cell_type": "code",
      "source": [
        "model.get_weights()"
      ],
      "metadata": {
        "colab": {
          "base_uri": "https://localhost:8080/"
        },
        "id": "XUSQD5Y5xUDw",
        "outputId": "95ac2dfb-e51b-4e7b-996a-faf56c79e8fe"
      },
      "execution_count": 35,
      "outputs": [
        {
          "output_type": "execute_result",
          "data": {
            "text/plain": [
              "[array([[ 4.9171302e-02,  7.8111731e-02,  7.8497283e-02, ...,\n",
              "         -1.7047334e-02, -8.9310976e-03, -1.8471316e-01],\n",
              "        [-3.4058250e-03, -2.8035261e-03, -3.9132059e-02, ...,\n",
              "         -2.0299910e-02, -3.0716771e-02,  2.3986034e-02],\n",
              "        [ 4.2538762e-02, -4.8066590e-02, -5.7281066e-02, ...,\n",
              "         -8.0633685e-02, -4.1462287e-02, -5.8494855e-02],\n",
              "        ...,\n",
              "        [-3.0087579e-02, -1.2109050e-02,  5.6961249e-03, ...,\n",
              "         -1.9760456e-02, -5.6537785e-02, -3.4600787e-02],\n",
              "        [-5.4049650e-03,  2.5974637e-02,  1.1219414e-02, ...,\n",
              "         -5.4956838e-03,  2.2641760e-03, -2.6907468e-02],\n",
              "        [-4.2314164e-02,  1.2607928e-02, -3.9504385e-03, ...,\n",
              "         -5.1184718e-02, -1.6567905e-02, -9.2877657e-05]], dtype=float32),\n",
              " array([[ 0.04242052, -0.00771285, -0.01711587, ..., -0.05487847,\n",
              "          0.00281162,  0.05643462],\n",
              "        [ 0.01527883, -0.03801873, -0.01255327, ...,  0.03243126,\n",
              "         -0.01079048, -0.01012326],\n",
              "        [-0.05217088,  0.03344616, -0.0393103 , ...,  0.04505512,\n",
              "          0.04439184, -0.04864014],\n",
              "        ...,\n",
              "        [ 0.03418805,  0.01824546, -0.04903853, ..., -0.0351007 ,\n",
              "         -0.04527863,  0.04507608],\n",
              "        [ 0.00291688, -0.03310294, -0.01501148, ...,  0.02031788,\n",
              "         -0.00685326,  0.03008154],\n",
              "        [ 0.03190864, -0.02893466, -0.02233651, ..., -0.00869369,\n",
              "         -0.02338483, -0.02540233]], dtype=float32),\n",
              " array([[ 0.08091896,  0.0385914 , -0.06831887, ..., -0.02018754,\n",
              "         -0.00040383, -0.08640467],\n",
              "        [ 0.03337994,  0.02845226,  0.02797833, ...,  0.01709853,\n",
              "         -0.02369392, -0.00916983],\n",
              "        [ 0.05563178, -0.0067521 , -0.01372583, ...,  0.01295425,\n",
              "          0.004414  ,  0.02173595],\n",
              "        ...,\n",
              "        [ 0.01427052,  0.0043137 , -0.0167988 , ..., -0.00365265,\n",
              "         -0.00913063, -0.02812734],\n",
              "        [-0.06422763, -0.03141206, -0.02471397, ..., -0.0195789 ,\n",
              "          0.00369519,  0.02745865],\n",
              "        [-0.04364905,  0.01979159, -0.05129516, ..., -0.00677659,\n",
              "         -0.0033917 ,  0.00135639]], dtype=float32),\n",
              " array([-0.02176402, -0.00839492, -0.01514012, ..., -0.00746855,\n",
              "        -0.00833192,  0.0005841 ], dtype=float32),\n",
              " array([[ 0.0516015 ],\n",
              "        [ 0.06241829],\n",
              "        [ 0.02775499],\n",
              "        ...,\n",
              "        [ 0.01539082],\n",
              "        [-0.12683985],\n",
              "        [-0.12388342]], dtype=float32),\n",
              " array([-0.04378887], dtype=float32)]"
            ]
          },
          "metadata": {},
          "execution_count": 35
        }
      ]
    },
    {
      "cell_type": "code",
      "source": [
        "# Load the pre-trained model with ReLU activation\n",
        "model = load_model('simple_rnn_imbd.h5')\n",
        "model.summary()"
      ],
      "metadata": {
        "colab": {
          "base_uri": "https://localhost:8080/",
          "height": 272
        },
        "id": "v-S3GXHpv_BU",
        "outputId": "03dce14c-90ae-459e-d53c-b45a5b55dcf2"
      },
      "execution_count": 36,
      "outputs": [
        {
          "output_type": "stream",
          "name": "stderr",
          "text": [
            "WARNING:absl:Compiled the loaded model, but the compiled metrics have yet to be built. `model.compile_metrics` will be empty until you train or evaluate the model.\n"
          ]
        },
        {
          "output_type": "display_data",
          "data": {
            "text/plain": [
              "\u001b[1mModel: \"sequential_4\"\u001b[0m\n"
            ],
            "text/html": [
              "<pre style=\"white-space:pre;overflow-x:auto;line-height:normal;font-family:Menlo,'DejaVu Sans Mono',consolas,'Courier New',monospace\"><span style=\"font-weight: bold\">Model: \"sequential_4\"</span>\n",
              "</pre>\n"
            ]
          },
          "metadata": {}
        },
        {
          "output_type": "display_data",
          "data": {
            "text/plain": [
              "┏━━━━━━━━━━━━━━━━━━━━━━━━━━━━━━━━━━━━━━┳━━━━━━━━━━━━━━━━━━━━━━━━━━━━━┳━━━━━━━━━━━━━━━━━┓\n",
              "┃\u001b[1m \u001b[0m\u001b[1mLayer (type)                        \u001b[0m\u001b[1m \u001b[0m┃\u001b[1m \u001b[0m\u001b[1mOutput Shape               \u001b[0m\u001b[1m \u001b[0m┃\u001b[1m \u001b[0m\u001b[1m        Param #\u001b[0m\u001b[1m \u001b[0m┃\n",
              "┡━━━━━━━━━━━━━━━━━━━━━━━━━━━━━━━━━━━━━━╇━━━━━━━━━━━━━━━━━━━━━━━━━━━━━╇━━━━━━━━━━━━━━━━━┩\n",
              "│ embedding_3 (\u001b[38;5;33mEmbedding\u001b[0m)              │ (\u001b[38;5;45mNone\u001b[0m, \u001b[38;5;34m500\u001b[0m, \u001b[38;5;34m1024\u001b[0m)           │      \u001b[38;5;34m10,240,000\u001b[0m │\n",
              "├──────────────────────────────────────┼─────────────────────────────┼─────────────────┤\n",
              "│ simple_rnn_2 (\u001b[38;5;33mSimpleRNN\u001b[0m)             │ (\u001b[38;5;45mNone\u001b[0m, \u001b[38;5;34m1024\u001b[0m)                │       \u001b[38;5;34m2,098,176\u001b[0m │\n",
              "├──────────────────────────────────────┼─────────────────────────────┼─────────────────┤\n",
              "│ dense_2 (\u001b[38;5;33mDense\u001b[0m)                      │ (\u001b[38;5;45mNone\u001b[0m, \u001b[38;5;34m1\u001b[0m)                   │           \u001b[38;5;34m1,025\u001b[0m │\n",
              "└──────────────────────────────────────┴─────────────────────────────┴─────────────────┘\n"
            ],
            "text/html": [
              "<pre style=\"white-space:pre;overflow-x:auto;line-height:normal;font-family:Menlo,'DejaVu Sans Mono',consolas,'Courier New',monospace\">┏━━━━━━━━━━━━━━━━━━━━━━━━━━━━━━━━━━━━━━┳━━━━━━━━━━━━━━━━━━━━━━━━━━━━━┳━━━━━━━━━━━━━━━━━┓\n",
              "┃<span style=\"font-weight: bold\"> Layer (type)                         </span>┃<span style=\"font-weight: bold\"> Output Shape                </span>┃<span style=\"font-weight: bold\">         Param # </span>┃\n",
              "┡━━━━━━━━━━━━━━━━━━━━━━━━━━━━━━━━━━━━━━╇━━━━━━━━━━━━━━━━━━━━━━━━━━━━━╇━━━━━━━━━━━━━━━━━┩\n",
              "│ embedding_3 (<span style=\"color: #0087ff; text-decoration-color: #0087ff\">Embedding</span>)              │ (<span style=\"color: #00d7ff; text-decoration-color: #00d7ff\">None</span>, <span style=\"color: #00af00; text-decoration-color: #00af00\">500</span>, <span style=\"color: #00af00; text-decoration-color: #00af00\">1024</span>)           │      <span style=\"color: #00af00; text-decoration-color: #00af00\">10,240,000</span> │\n",
              "├──────────────────────────────────────┼─────────────────────────────┼─────────────────┤\n",
              "│ simple_rnn_2 (<span style=\"color: #0087ff; text-decoration-color: #0087ff\">SimpleRNN</span>)             │ (<span style=\"color: #00d7ff; text-decoration-color: #00d7ff\">None</span>, <span style=\"color: #00af00; text-decoration-color: #00af00\">1024</span>)                │       <span style=\"color: #00af00; text-decoration-color: #00af00\">2,098,176</span> │\n",
              "├──────────────────────────────────────┼─────────────────────────────┼─────────────────┤\n",
              "│ dense_2 (<span style=\"color: #0087ff; text-decoration-color: #0087ff\">Dense</span>)                      │ (<span style=\"color: #00d7ff; text-decoration-color: #00d7ff\">None</span>, <span style=\"color: #00af00; text-decoration-color: #00af00\">1</span>)                   │           <span style=\"color: #00af00; text-decoration-color: #00af00\">1,025</span> │\n",
              "└──────────────────────────────────────┴─────────────────────────────┴─────────────────┘\n",
              "</pre>\n"
            ]
          },
          "metadata": {}
        },
        {
          "output_type": "display_data",
          "data": {
            "text/plain": [
              "\u001b[1m Total params: \u001b[0m\u001b[38;5;34m12,339,203\u001b[0m (47.07 MB)\n"
            ],
            "text/html": [
              "<pre style=\"white-space:pre;overflow-x:auto;line-height:normal;font-family:Menlo,'DejaVu Sans Mono',consolas,'Courier New',monospace\"><span style=\"font-weight: bold\"> Total params: </span><span style=\"color: #00af00; text-decoration-color: #00af00\">12,339,203</span> (47.07 MB)\n",
              "</pre>\n"
            ]
          },
          "metadata": {}
        },
        {
          "output_type": "display_data",
          "data": {
            "text/plain": [
              "\u001b[1m Trainable params: \u001b[0m\u001b[38;5;34m12,339,201\u001b[0m (47.07 MB)\n"
            ],
            "text/html": [
              "<pre style=\"white-space:pre;overflow-x:auto;line-height:normal;font-family:Menlo,'DejaVu Sans Mono',consolas,'Courier New',monospace\"><span style=\"font-weight: bold\"> Trainable params: </span><span style=\"color: #00af00; text-decoration-color: #00af00\">12,339,201</span> (47.07 MB)\n",
              "</pre>\n"
            ]
          },
          "metadata": {}
        },
        {
          "output_type": "display_data",
          "data": {
            "text/plain": [
              "\u001b[1m Non-trainable params: \u001b[0m\u001b[38;5;34m0\u001b[0m (0.00 B)\n"
            ],
            "text/html": [
              "<pre style=\"white-space:pre;overflow-x:auto;line-height:normal;font-family:Menlo,'DejaVu Sans Mono',consolas,'Courier New',monospace\"><span style=\"font-weight: bold\"> Non-trainable params: </span><span style=\"color: #00af00; text-decoration-color: #00af00\">0</span> (0.00 B)\n",
              "</pre>\n"
            ]
          },
          "metadata": {}
        },
        {
          "output_type": "display_data",
          "data": {
            "text/plain": [
              "\u001b[1m Optimizer params: \u001b[0m\u001b[38;5;34m2\u001b[0m (12.00 B)\n"
            ],
            "text/html": [
              "<pre style=\"white-space:pre;overflow-x:auto;line-height:normal;font-family:Menlo,'DejaVu Sans Mono',consolas,'Courier New',monospace\"><span style=\"font-weight: bold\"> Optimizer params: </span><span style=\"color: #00af00; text-decoration-color: #00af00\">2</span> (12.00 B)\n",
              "</pre>\n"
            ]
          },
          "metadata": {}
        }
      ]
    },
    {
      "cell_type": "code",
      "source": [
        "#Function to decode reviews\n",
        "def decode_review(encoded_review):\n",
        "    return ' '.join([reverse_word_index.get(i - 3, '?') for i in encoded_review])\n",
        "\n",
        "#Function to preprocess user input\n",
        "def preprocess_text(text):\n",
        "  words = text.lower().split()\n",
        "  encoded_review = [word_index.get(word, 2) + 3 for word in words]\n",
        "  padded_review = sequence.pad_sequences([encoded_review], maxlen=500)\n",
        "  return padded_review"
      ],
      "metadata": {
        "id": "ukSifXfTv_JP"
      },
      "execution_count": 38,
      "outputs": []
    },
    {
      "cell_type": "code",
      "source": [
        "# Prediction function\n",
        "def predict_sentiment(review):\n",
        "  preprocessed_input = preprocess_text(review)\n",
        "  prediction = model.predict(preprocessed_input)\n",
        "  sentiment = 'Positive' if prediction[0][0] > 0.5 else 'Negative'\n",
        "  return sentiment, prediction[0][0]"
      ],
      "metadata": {
        "id": "K8qLQkTSv_Rc"
      },
      "execution_count": 51,
      "outputs": []
    },
    {
      "cell_type": "code",
      "source": [
        "#Example review for prediction\n",
        "example_review = \"The movie was great and interesting. I loved the acting, and the plot was amazing\"\n",
        "\n",
        "sentiment,score = predict_sentiment(example_review)\n",
        "print(f\"Review: {example_review}\")\n",
        "print(f\"Sentiment: {sentiment}\")\n",
        "print(f\"Prediction Score: {score}\")"
      ],
      "metadata": {
        "colab": {
          "base_uri": "https://localhost:8080/"
        },
        "id": "Vu7qxIPWv_Xt",
        "outputId": "fe65d26d-af37-4b82-87b8-2cec5779eacf"
      },
      "execution_count": 52,
      "outputs": [
        {
          "output_type": "stream",
          "name": "stdout",
          "text": [
            "\u001b[1m1/1\u001b[0m \u001b[32m━━━━━━━━━━━━━━━━━━━━\u001b[0m\u001b[37m\u001b[0m \u001b[1m0s\u001b[0m 245ms/step\n",
            "Review: The movie was great and interesting. I loved the acting, and the plot was amazing\n",
            "Sentiment: Positive\n",
            "Prediction Score: 0.9204595685005188\n"
          ]
        }
      ]
    },
    {
      "cell_type": "code",
      "source": [
        ""
      ],
      "metadata": {
        "id": "LuYAUIM7v_dO"
      },
      "execution_count": null,
      "outputs": []
    },
    {
      "cell_type": "code",
      "source": [],
      "metadata": {
        "id": "8lVeA89yv_kv"
      },
      "execution_count": null,
      "outputs": []
    },
    {
      "cell_type": "code",
      "source": [],
      "metadata": {
        "id": "RfE9T7eJv_uk"
      },
      "execution_count": null,
      "outputs": []
    }
  ]
}